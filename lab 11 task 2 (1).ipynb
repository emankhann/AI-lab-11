{
 "cells": [
  {
   "cell_type": "code",
   "execution_count": 1,
   "id": "8e0bbb01-a096-4c45-bf44-f5dede94dd0b",
   "metadata": {},
   "outputs": [
    {
     "name": "stdin",
     "output_type": "stream",
     "text": [
      "Enter the initial state:  A\n",
      "Enter the final state:  C\n"
     ]
    },
    {
     "name": "stdout",
     "output_type": "stream",
     "text": [
      "Path: ['A', 'C']\n",
      "Closed List: ['A', 'B', 'C']\n"
     ]
    }
   ],
   "source": [
    "from collections import deque\n",
    "\n",
    "# Define the graph as an adjacency list\n",
    "graph = {\n",
    "    'A': ['B', 'C', 'E'],\n",
    "    'B': ['D', 'E'],\n",
    "    'C': ['F', 'G'],\n",
    "    'E': ['F'],\n",
    "    'D': [],\n",
    "    'F': [],\n",
    "    'G': []\n",
    "}\n",
    "\n",
    "# Breadth-First Search (BFS) Function\n",
    "def bfs(graph, start, goal):\n",
    "    \"\"\"Perform BFS to find the shortest path from start to goal.\"\"\"\n",
    "    # Initialize open and closed lists\n",
    "    open_list = deque([start])\n",
    "    closed_list = []\n",
    "    \n",
    "    # Parent dictionary to track the path\n",
    "    parent = {start: None}\n",
    "\n",
    "    # Loop until the open list is empty\n",
    "    while open_list:\n",
    "        # Dequeue a node\n",
    "        node = open_list.popleft()\n",
    "        closed_list.append(node)\n",
    "\n",
    "        # Check if the goal is found\n",
    "        if node == goal:\n",
    "            path = []\n",
    "            while node is not None:\n",
    "                path.append(node)\n",
    "                node = parent[node]\n",
    "            path.reverse()\n",
    "            return path, closed_list\n",
    "\n",
    "        # Expand the node\n",
    "        for neighbor in graph[node]:\n",
    "            if neighbor not in closed_list and neighbor not in open_list:\n",
    "                open_list.append(neighbor)\n",
    "                parent[neighbor] = node\n",
    "\n",
    "    # If no path is found\n",
    "    return None, closed_list\n",
    "\n",
    "# Input\n",
    "start_node = input(\"Enter the initial state: \").strip()\n",
    "goal_node = input(\"Enter the final state: \").strip()\n",
    "\n",
    "# Perform BFS\n",
    "path, closed_list = bfs(graph, start_node, goal_node)\n",
    "\n",
    "# Display Results\n",
    "if path:\n",
    "    print(\"Path:\", path)\n",
    "else:\n",
    "    print(\"No path found.\")\n",
    "print(\"Closed List:\", closed_list)\n"
   ]
  }
 ],
 "metadata": {
  "kernelspec": {
   "display_name": "Python 3 (ipykernel)",
   "language": "python",
   "name": "python3"
  },
  "language_info": {
   "codemirror_mode": {
    "name": "ipython",
    "version": 3
   },
   "file_extension": ".py",
   "mimetype": "text/x-python",
   "name": "python",
   "nbconvert_exporter": "python",
   "pygments_lexer": "ipython3",
   "version": "3.12.3"
  }
 },
 "nbformat": 4,
 "nbformat_minor": 5
}
