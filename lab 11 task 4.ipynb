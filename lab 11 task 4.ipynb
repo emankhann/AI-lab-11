{
 "cells": [
  {
   "cell_type": "code",
   "execution_count": null,
   "id": "7df4992b-94f7-4a7c-b611-5bc95bb5091c",
   "metadata": {},
   "outputs": [],
   "source": []
  }
 ],
 "metadata": {
  "kernelspec": {
   "display_name": "",
   "name": ""
  },
  "language_info": {
   "name": ""
  }
 },
 "nbformat": 4,
 "nbformat_minor": 5
}
