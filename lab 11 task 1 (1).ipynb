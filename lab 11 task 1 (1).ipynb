{
 "cells": [
  {
   "cell_type": "code",
   "execution_count": 3,
   "id": "c2144c46-6d1b-487e-9bb2-451420594ef0",
   "metadata": {},
   "outputs": [
    {
     "name": "stdout",
     "output_type": "stream",
     "text": [
      "Path: ['A', 'C', 'G']\n",
      "Closed List: ['A', 'B', 'C', 'E', 'D', 'F', 'G']\n"
     ]
    }
   ],
   "source": [
    "from collections import deque\n",
    "\n",
    "graph = {\n",
    "    'A': ['B', 'C', 'E'],\n",
    "    'B': ['D', 'E'],\n",
    "    'C': ['F', 'G'],\n",
    "    'E': ['F'],\n",
    "    'D': [],\n",
    "    'F': [],\n",
    "    'G': []\n",
    "}\n",
    "\n",
    "def bfs(graph, start, goal):\n",
    "    \"\"\"Perform BFS to find the shortest path from start to goal.\"\"\"\n",
    "    open_list = deque([start])\n",
    "    closed_list = []\n",
    "    parent = {start: None}\n",
    "\n",
    "    while open_list:\n",
    "        node = open_list.popleft()\n",
    "        closed_list.append(node)\n",
    "\n",
    "        if node == goal:\n",
    "            path = []\n",
    "            while node is not None:\n",
    "                path.append(node)\n",
    "                node = parent[node]\n",
    "            path.reverse()\n",
    "            return path, closed_list\n",
    "\n",
    "        # Expand the node\n",
    "        for neighbor in graph[node]:\n",
    "            if neighbor not in closed_list and neighbor not in open_list:\n",
    "                open_list.append(neighbor)\n",
    "                parent[neighbor] = node\n",
    "\n",
    "    return None, closed_list\n",
    "\n",
    "# Example usage\n",
    "start_node = 'A'\n",
    "goal_node = 'G'\n",
    "path, closed_list = bfs(graph, start_node, goal_node)\n",
    "\n",
    "print(\"Path:\", path)\n",
    "print(\"Closed List:\", closed_list)\n"
   ]
  }
 ],
 "metadata": {
  "kernelspec": {
   "display_name": "Python 3 (ipykernel)",
   "language": "python",
   "name": "python3"
  },
  "language_info": {
   "codemirror_mode": {
    "name": "ipython",
    "version": 3
   },
   "file_extension": ".py",
   "mimetype": "text/x-python",
   "name": "python",
   "nbconvert_exporter": "python",
   "pygments_lexer": "ipython3",
   "version": "3.12.3"
  }
 },
 "nbformat": 4,
 "nbformat_minor": 5
}
